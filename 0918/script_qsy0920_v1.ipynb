{
 "cells": [
  {
   "cell_type": "code",
   "execution_count": null,
   "id": "89717dbc",
   "metadata": {},
   "outputs": [],
   "source": [
    "import pandas as pd\n",
    "import numpy as np"
   ]
  },
  {
   "cell_type": "markdown",
   "id": "87cf97e1",
   "metadata": {},
   "source": [
    "## 任务1，基础信息表"
   ]
  },
  {
   "cell_type": "code",
   "execution_count": null,
   "id": "8e164158",
   "metadata": {},
   "outputs": [],
   "source": [
    "df1=pd.read_excel(r'...\\1.基本信息-1基本信息.xlsx.xlsx')  #打开基础信息表，df1\n",
    "#df1\n",
    "df0=pd.read_excel(r'...\\0-基础数据补充表.xlsx')  #打开补充表,df0\n",
    "#df0"
   ]
  },
  {
   "cell_type": "code",
   "execution_count": null,
   "id": "41709dc8",
   "metadata": {},
   "outputs": [],
   "source": [
    "result = df1.merge(df0,how='left',on=['公司编码'])  #将两个表合并到左表df1,on'公司编码',result\n",
    "#result\n",
    "result.loc[result['注册资本金额（元）_x'].isna(),'注册资本金额（元）_x']=result[result['注册资本金额（元）_x'].isna()]['注册资本金额（元）_y']\n",
    "result.loc[result['成立日期_x'].isna(),'成立日期_x']=result[result['成立日期_x'].isna()]['成立日期_y']\n",
    "result.loc[result['注册状态_x'].isna(),'注册状态_x']=result[result['注册状态_x'].isna()]['注册状态_y']\n",
    "result.loc[result['注册地址_x'].isna(),'注册地址_x']=result[result['注册地址_x'].isna()]['注册地址_y']\n",
    "result.loc[result['所属省_x'].isna(),'所属省_x']=result[result['所属省_x'].isna()]['所属省_y']\n",
    "result.loc[result['所属市_x'].isna(),'所属市_x']=result[result['所属市_x'].isna()]['所属市_y']\n",
    "result.loc[result['所属区_x'].isna(),'所属区_x']=result[result['所属区_x'].isna()]['所属区_y']\n",
    "#用有新数据的'_y'列替换'_x'列的空值\n",
    "#result\n",
    "result = result[result['公司名称'].notna()]\n",
    "result = result[result['公司编码'].notna()]\n",
    "#删除没有‘公司名称’和‘公司编码’的行\n",
    "result.to_excel(\"1.基本信息-1基本信息（补充后）.xlsx\") #输出结果"
   ]
  },
  {
   "cell_type": "markdown",
   "id": "07f7d24b",
   "metadata": {},
   "source": [
    "## 任务2,投资"
   ]
  },
  {
   "cell_type": "code",
   "execution_count": null,
   "id": "6156ddcf",
   "metadata": {},
   "outputs": [],
   "source": [
    "#表'2.投融资-1新增-1A股.xlsx'\n",
    "df2=pd.read_excel(r'...\\2.投融资-1新增-1A股.xlsx')  #打开表,df2\n",
    "#df2\n",
    "result2 = result.merge(df2,how='left',on=['公司编码'])  #将两个表合并到左表result,on'公司编码',result2\n",
    "#result\n",
    "\n",
    "result2['投资/退出日期']=pd.to_datetime(result2['投资/退出日期']) #改为时间格式\n",
    "result2['成立日期']=pd.to_datetime(result2['成立日期']) #改为时间格式\n",
    "#print(result2.info())\n",
    "\n",
    "##b2022\n",
    "result2_b2022 = result2[result2['投资/退出日期']<pd.datetime(2022,1,1)] #只取2022年之前\n",
    "result2_b2022 = result2_b2022[result2_b2022['成立日期']<pd.datetime(2022,1,1)] #只取2022年之前\n",
    "#\n",
    "result2_b2022 = result2_b2022.drop(result2_b2022[result2_b2022['注册状态'].str.contains('注销',na=False)])\n",
    "result2_b2022_sum = pd.DataFrame(result2_b2022.groupby(result2_b2022[\"所属市\"])['投资/退出金额（元）'].sum())\n",
    "result2_b2022_count = pd.DataFrame(result2_b2022.groupby(result2_b2022[\"所属市\"])['投资/退出金额（元）'].count())\n",
    "result2_b2022_mean = pd.DataFrame(result2_b2022.groupby(result2_b2022[\"所属市\"])['投资/退出金额（元）'].mean())\n",
    "result2_b2022 = result2_b2022_sum.merge(result2_b2022_count,result2_b2022_mean,how='left',on=['所属市'])  #合并sum,count,mean\n",
    "\n",
    "##b2021\n",
    "result2_b2021 = result2[result2['投资/退出日期']<pd.datetime(2021,1,1)] #只取2021年之前\n",
    "result2_b2021 = result2_b2021[result2_b2021['成立日期']<pd.datetime(2021,1,1)] #只取2021年之前\n",
    "#\n",
    "result2_b2021 = result2_b2021.drop(result2_b2021[result2_b2021['注册状态'].str.contains('注销',na=False)])\n",
    "result2_b2021_sum = pd.DataFrame(result2_b2021.groupby(result2_b2021[\"所属市\"])['投资/退出金额（元）'].sum())\n",
    "result2_b2021_count = pd.DataFrame(result2_b2021.groupby(result2_b2021[\"所属市\"])['投资/退出金额（元）'].count())\n",
    "result2_b2021_mean = pd.DataFrame(result2_b2021.groupby(result2_b2021[\"所属市\"])['投资/退出金额（元）'].mean())\n",
    "result2_b2021 = result2_b2021_sum.merge(result2_b2021_count,result2_b2021_mean,how='left',on=['所属市'])  #合并sum,count,mean\n",
    "\n",
    "##b2020\n",
    "result2_b2020 = result2[result2['投资/退出日期']<pd.datetime(2020,1,1)] #只取2020年之前\n",
    "result2_b2020 = result2_b2020[result2_b2020['成立日期']<pd.datetime(2020,1,1)] #只取2020年之前\n",
    "#\n",
    "result2_b2020 = result2_b2020.drop(result2_b2020[result2_b2020['注册状态'].str.contains('注销',na=False)])\n",
    "result2_b2020_sum = pd.DataFrame(result2_b2020.groupby(result2_b2020[\"所属市\"])['投资/退出金额（元）'].sum())\n",
    "result2_b2020_count = pd.DataFrame(result2_b2020.groupby(result2_b2020[\"所属市\"])['投资/退出金额（元）'].count())\n",
    "result2_b2020_mean = pd.DataFrame(result2_b2020.groupby(result2_b2020[\"所属市\"])['投资/退出金额（元）'].mean())\n",
    "result2_b2020 = result2_b2020_sum.merge(result2_b2020_count,result2_b2020_mean,how='left',on=['所属市'])  #合并sum,count,mean\n",
    "\n",
    "##b2019\n",
    "result2_b2019 = result2[result2['投资/退出日期']<pd.datetime(2019,1,1)] #只取2019年之前\n",
    "result2_b2019 = result2_b2019[result2_b2019['成立日期']<pd.datetime(2019,1,1)] #只取2019年之前\n",
    "#\n",
    "result2_b2019 = result2_b2019.drop(result2_b2019[result2_b2019['注册状态'].str.contains('注销',na=False)])\n",
    "result2_b2019_sum = pd.DataFrame(result2_b2019.groupby(result2_b2019[\"所属市\"])['投资/退出金额（元）'].sum())\n",
    "result2_b2019_count = pd.DataFrame(result2_b2019.groupby(result2_b2019[\"所属市\"])['投资/退出金额（元）'].count())\n",
    "result2_b2019_mean = pd.DataFrame(result2_b2019.groupby(result2_b2019[\"所属市\"])['投资/退出金额（元）'].mean())\n",
    "result2_b2019 = result2_b2019_sum.merge(result2_b2019_count,result2_b2019_mean,how='left',on=['所属市'])  #合并sum,count,mean\n",
    "\n",
    "##合并年份4个表并输出\n",
    "result2_final = result2_b2022.merge(result2_b2021,result2_b2020,result2_b2019,how='left',on=['所属市'])\n",
    "result2_final.to_excel(\"2.投融资-1新增-1A股（输出）.xlsx\") #输出结果"
   ]
  },
  {
   "cell_type": "markdown",
   "id": "199fa323",
   "metadata": {},
   "source": [
    "#### 这是‘投资的第二个表’，还在改"
   ]
  },
  {
   "cell_type": "code",
   "execution_count": null,
   "id": "1b296a97",
   "metadata": {},
   "outputs": [],
   "source": [
    "#表'2.投融资-1新增-2工商投资.xlsx'\n",
    "df2=pd.read_excel(r'...\\2.投融资-1新增-2工商投资.xlsx')  #打开表,df2\n",
    "#df2\n",
    "result2 = result.merge(df2,how='left',on=['公司编码'])  #将两个表合并到左表result,on'公司编码',result2\n",
    "#result\n",
    "\n",
    "result2['投资/退出日期']=pd.to_datetime(result2['投资/退出日期']) #改为时间格式\n",
    "result2['成立日期']=pd.to_datetime(result2['成立日期']) #改为时间格式\n",
    "#print(result2.info())\n",
    "\n",
    "##b2022\n",
    "result2_b2022 = result2[result2['投资/退出日期']<pd.datetime(2022,1,1)] #只取2022年之前\n",
    "result2_b2022 = result2_b2022[result2_b2022['成立日期']<pd.datetime(2022,1,1)] #只取2022年之前\n",
    "#\n",
    "result2_b2022 = result2_b2022.drop(result2_b2022[result2_b2022['注册状态'].str.contains('注销',na=False)])\n",
    "result2_b2022_sum = pd.DataFrame(result2_b2022.groupby(result2_b2022[\"所属市\"])['投资/退出金额（元）'].sum())\n",
    "result2_b2022_count = pd.DataFrame(result2_b2022.groupby(result2_b2022[\"所属市\"])['投资/退出金额（元）'].count())\n",
    "result2_b2022_mean = pd.DataFrame(result2_b2022.groupby(result2_b2022[\"所属市\"])['投资/退出金额（元）'].mean())\n",
    "result2_b2022 = result2_b2022_sum.merge(result2_b2022_count,result2_b2022_mean,how='left',on=['所属市'])  #合并sum,count,mean\n",
    "\n",
    "##b2021\n",
    "result2_b2021 = result2[result2['投资/退出日期']<pd.datetime(2021,1,1)] #只取2021年之前\n",
    "result2_b2021 = result2_b2021[result2_b2021['成立日期']<pd.datetime(2021,1,1)] #只取2021年之前\n",
    "#\n",
    "result2_b2021 = result2_b2021.drop(result2_b2021[result2_b2021['注册状态'].str.contains('注销',na=False)])\n",
    "result2_b2021_sum = pd.DataFrame(result2_b2021.groupby(result2_b2021[\"所属市\"])['投资/退出金额（元）'].sum())\n",
    "result2_b2021_count = pd.DataFrame(result2_b2021.groupby(result2_b2021[\"所属市\"])['投资/退出金额（元）'].count())\n",
    "result2_b2021_mean = pd.DataFrame(result2_b2021.groupby(result2_b2021[\"所属市\"])['投资/退出金额（元）'].mean())\n",
    "result2_b2021 = result2_b2021_sum.merge(result2_b2021_count,result2_b2021_mean,how='left',on=['所属市'])  #合并sum,count,mean\n",
    "\n",
    "##b2020\n",
    "result2_b2020 = result2[result2['投资/退出日期']<pd.datetime(2020,1,1)] #只取2020年之前\n",
    "result2_b2020 = result2_b2020[result2_b2020['成立日期']<pd.datetime(2020,1,1)] #只取2020年之前\n",
    "#\n",
    "result2_b2020 = result2_b2020.drop(result2_b2020[result2_b2020['注册状态'].str.contains('注销',na=False)])\n",
    "result2_b2020_sum = pd.DataFrame(result2_b2020.groupby(result2_b2020[\"所属市\"])['投资/退出金额（元）'].sum())\n",
    "result2_b2020_count = pd.DataFrame(result2_b2020.groupby(result2_b2020[\"所属市\"])['投资/退出金额（元）'].count())\n",
    "result2_b2020_mean = pd.DataFrame(result2_b2020.groupby(result2_b2020[\"所属市\"])['投资/退出金额（元）'].mean())\n",
    "result2_b2020 = result2_b2020_sum.merge(result2_b2020_count,result2_b2020_mean,how='left',on=['所属市'])  #合并sum,count,mean\n",
    "\n",
    "##b2019\n",
    "result2_b2019 = result2[result2['投资/退出日期']<pd.datetime(2019,1,1)] #只取2019年之前\n",
    "result2_b2019 = result2_b2019[result2_b2019['成立日期']<pd.datetime(2019,1,1)] #只取2019年之前\n",
    "#\n",
    "result2_b2019 = result2_b2019.drop(result2_b2019[result2_b2019['注册状态'].str.contains('注销',na=False)])\n",
    "result2_b2019_sum = pd.DataFrame(result2_b2019.groupby(result2_b2019[\"所属市\"])['投资/退出金额（元）'].sum())\n",
    "result2_b2019_count = pd.DataFrame(result2_b2019.groupby(result2_b2019[\"所属市\"])['投资/退出金额（元）'].count())\n",
    "result2_b2019_mean = pd.DataFrame(result2_b2019.groupby(result2_b2019[\"所属市\"])['投资/退出金额（元）'].mean())\n",
    "result2_b2019 = result2_b2019_sum.merge(result2_b2019_count,result2_b2019_mean,how='left',on=['所属市'])  #合并sum,count,mean\n",
    "\n",
    "##合并年份4个表并输出\n",
    "result2_final = result2_b2022.merge(result2_b2021,result2_b2020,result2_b2019,how='left',on=['所属市'])\n",
    "result2_final.to_excel(\"2.投融资-1新增-1A股（输出）.xlsx\") #输出结果"
   ]
  }
 ],
 "metadata": {
  "kernelspec": {
   "display_name": "Python 3 (ipykernel)",
   "language": "python",
   "name": "python3"
  },
  "language_info": {
   "codemirror_mode": {
    "name": "ipython",
    "version": 3
   },
   "file_extension": ".py",
   "mimetype": "text/x-python",
   "name": "python",
   "nbconvert_exporter": "python",
   "pygments_lexer": "ipython3",
   "version": "3.9.7"
  }
 },
 "nbformat": 4,
 "nbformat_minor": 5
}
