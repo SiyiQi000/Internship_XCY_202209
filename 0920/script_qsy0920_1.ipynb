{
 "cells": [
  {
   "cell_type": "markdown",
   "id": "4d1c8520",
   "metadata": {},
   "source": [
    "## 任务1，基础信息表"
   ]
  },
  {
   "cell_type": "markdown",
   "id": "b2445f95",
   "metadata": {},
   "source": [
    "#### 合并表'c220919_code_matched.xlsx'"
   ]
  },
  {
   "cell_type": "code",
   "execution_count": null,
   "id": "93fab592",
   "metadata": {},
   "outputs": [],
   "source": [
    "import pandas as pd\n",
    "import numpy as np\n",
    "\n",
    "df1=pd.read_excel(r'...\\1.基本信息-1基本信息.xlsx')  #打开基础信息表，df1\n",
    "#df1\n",
    "df0=pd.read_excel(r'...\\c220919_code_matched.xlsx')  #打开补充表,df0\n",
    "#df0\n",
    "\n",
    "result = df1.merge(df0,how='left',on=['统一社会信用代码'])  #将两个表合并到左表df1,on'公司编码',result\n",
    "#result\n",
    "#result.loc[result['注册资本金额（元）_x'].isna(),'注册资本金额（元）_x']=result[result['注册资本金额（元）_x'].isna()]['注册资本金额（元）_y']\n",
    "result.loc[result['成立日期_x'].isna(),'成立日期_x']=result[result['成立日期_x'].isna()]['成立日期_y']\n",
    "result.loc[result['注册状态_x'].isna(),'注册状态_x']=result[result['注册状态_x'].isna()]['注册状态_y']\n",
    "#result.loc[result['注册地址_x'].isna(),'注册地址_x']=result[result['注册地址_x'].isna()]['注册地址_y']\n",
    "#result.loc[result['所属省_x'].isna(),'所属省_x']=result[result['所属省_x'].isna()]['所属省_y']\n",
    "#result.loc[result['所属市_x'].isna(),'所属市_x']=result[result['所属市_x'].isna()]['所属市_y']\n",
    "#result.loc[result['所属区_x'].isna(),'所属区_x']=result[result['所属区_x'].isna()]['所属区_y']\n",
    "#用有新数据的'_y'列替换'_x'列的空值\n",
    "#result\n",
    "result = result[result['公司名称'].notna()]\n",
    "result = result[result['公司编码'].notna()]\n",
    "#删除没有‘公司名称’和‘公司编码’的行\n",
    "result.to_excel(\"1.基本信息-1基本信息（补充后）.xlsx\") #输出结果"
   ]
  },
  {
   "cell_type": "markdown",
   "id": "09ac6151",
   "metadata": {},
   "source": [
    "#### 合并表'c220919_name_matched.xlsx'"
   ]
  },
  {
   "cell_type": "code",
   "execution_count": null,
   "id": "845d1c15",
   "metadata": {},
   "outputs": [],
   "source": [
    "import pandas as pd\n",
    "import numpy as np\n",
    "\n",
    "df1=pd.read_excel(r'...\\1.基本信息-1基本信息（补充后）.xlsx')  #打开基础信息表，df1\n",
    "#df1\n",
    "df0=pd.read_excel(r'...\\c220919_name_matched.xlsx')  #打开补充表,df0\n",
    "#df0\n",
    "\n",
    "result = df1.merge(df0,how='left',on=['公司名称'])  #将两个表合并到左表df1,on'公司编码',result\n",
    "#result\n",
    "#result.loc[result['注册资本金额（元）_x'].isna(),'注册资本金额（元）_x']=result[result['注册资本金额（元）_x'].isna()]['注册资本金额（元）_y']\n",
    "result.loc[result['成立日期_x'].isna(),'成立日期_x']=result[result['成立日期_x'].isna()]['成立日期_y']\n",
    "result.loc[result['注册状态_x'].isna(),'注册状态_x']=result[result['注册状态_x'].isna()]['注册状态_y']\n",
    "#result.loc[result['注册地址_x'].isna(),'注册地址_x']=result[result['注册地址_x'].isna()]['注册地址_y']\n",
    "#result.loc[result['所属省_x'].isna(),'所属省_x']=result[result['所属省_x'].isna()]['所属省_y']\n",
    "#result.loc[result['所属市_x'].isna(),'所属市_x']=result[result['所属市_x'].isna()]['所属市_y']\n",
    "#result.loc[result['所属区_x'].isna(),'所属区_x']=result[result['所属区_x'].isna()]['所属区_y']\n",
    "#用有新数据的'_y'列替换'_x'列的空值\n",
    "#result\n",
    "result = result[result['公司名称'].notna()]\n",
    "result = result[result['公司编码'].notna()]\n",
    "#删除没有‘公司名称’和‘公司编码’的行\n",
    "result.to_excel(\"1.基本信息-1基本信息（补充后）2.xlsx\") #输出结果"
   ]
  }
 ],
 "metadata": {
  "kernelspec": {
   "display_name": "Python 3 (ipykernel)",
   "language": "python",
   "name": "python3"
  },
  "language_info": {
   "codemirror_mode": {
    "name": "ipython",
    "version": 3
   },
   "file_extension": ".py",
   "mimetype": "text/x-python",
   "name": "python",
   "nbconvert_exporter": "python",
   "pygments_lexer": "ipython3",
   "version": "3.9.7"
  }
 },
 "nbformat": 4,
 "nbformat_minor": 5
}
