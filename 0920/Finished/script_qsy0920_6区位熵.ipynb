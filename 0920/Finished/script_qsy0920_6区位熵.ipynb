{
 "cells": [
  {
   "cell_type": "markdown",
   "id": "da0fc3a4",
   "metadata": {},
   "source": [
    "#### 各年公司"
   ]
  },
  {
   "cell_type": "code",
   "execution_count": null,
   "id": "c6013f8d",
   "metadata": {},
   "outputs": [],
   "source": [
    "import pandas as pd\n",
    "import numpy as np\n",
    "\n",
    "result2=pd.read_excel(r'E:\\思懿-已更新数据文件夹2\\qsy_1基本信息\\1.基本信息-1基本信息（补充后）_产业链0926.xlsx')"
   ]
  },
  {
   "cell_type": "code",
   "execution_count": null,
   "id": "94d9abc2",
   "metadata": {},
   "outputs": [],
   "source": [
    "result2['成立日期']=pd.to_datetime(result2['成立日期']) #改为时间格式\n",
    "##b2022\n",
    "result2_b2022 = result2[result2['成立日期']<pd.datetime(2022,1,1)] #只取2022年之前\n",
    "result2_b2022['核准日期']=pd.to_datetime(result2_b2022['核准日期']) #改为时间格式\n",
    "result2_b2022 = result2_b2022.drop(result2_b2022[(result2_b2022['核准日期']<pd.datetime(2021,1,1)) & (result2_b2022['注册状态'].isin(['注销',\\\n",
    "                                                                                                                    '迁出','吊销，未注销',\\\n",
    "                                                                                                                    '吊销，已注销']))].index)\n",
    "\n",
    "result2_b2022.to_excel(\"b2022_output.xlsx\") #输出结果\n",
    "\n",
    "\n",
    "##b2021\n",
    "result2_b2021 = result2[result2['成立日期']<pd.datetime(2021,1,1)] #只取2021年之前\n",
    "result2_b2021['核准日期']=pd.to_datetime(result2_b2021['核准日期']) #改为时间格式\n",
    "result2_b2021 = result2_b2021.drop(result2_b2021[(result2_b2021['核准日期']<pd.datetime(2020,1,1)) & (result2_b2021['注册状态'].isin(['注销',\\\n",
    "                                                                                                                    '迁出','吊销，未注销',\\\n",
    "                                                                                                                    '吊销，已注销']))].index)\n",
    "\n",
    "result2_b2021.to_excel(\"b2021_output.xlsx\") #输出结果\n",
    "\n",
    "\n",
    "\n",
    "##b2020\n",
    "result2_b2020 = result2[result2['成立日期']<pd.datetime(2020,1,1)] #只取2020年之前\n",
    "result2_b2020['核准日期']=pd.to_datetime(result2_b2020['核准日期']) #改为时间格式\n",
    "result2_b2020 = result2_b2020.drop(result2_b2020[(result2_b2020['核准日期']<pd.datetime(2019,1,1)) & (result2_b2020['注册状态'].isin(['注销',\\\n",
    "                                                                                                                    '迁出','吊销，未注销',\\\n",
    "                                                                                                                    '吊销，已注销']))].index)\n",
    "\n",
    "result2_b2020.to_excel(\"b2020_output.xlsx\") #输出结果\n",
    "\n",
    "##b2019\n",
    "result2_b2019 = result2[result2['成立日期']<pd.datetime(2019,1,1)] #只取2019年之前\n",
    "\n",
    "result2_b2019.to_excel(\"b2019_output.xlsx\") #输出结果"
   ]
  },
  {
   "cell_type": "markdown",
   "id": "615aa630",
   "metadata": {},
   "source": [
    "#### 地址提取"
   ]
  },
  {
   "cell_type": "code",
   "execution_count": null,
   "id": "abb4a50a",
   "metadata": {},
   "outputs": [],
   "source": [
    "import openpyxl\n",
    "import xlrd\n",
    "import pandas as pd\n",
    "import numpy as np\n",
    "from  pandas import DataFrame\n",
    "from openpyxl import load_workbook\n",
    "xlrd.xlsx.ensure_elementtree_imported(False, None)\n",
    "xlrd.xlsx.Element_has_iter = True\n",
    "\n",
    "excel_name=r'C:\\Users\\1118\\script_qsy\\b2019_output.xlsx'\n",
    "df = pd.read_excel(excel_name,usecols=[0,1,22])\n",
    "\n",
    "df.to_excel(\"b2019_地址匹配\") #输出结果\n",
    "\n",
    "df['公司编码'].count()"
   ]
  },
  {
   "cell_type": "markdown",
   "id": "2d367f3a",
   "metadata": {},
   "source": [
    "#### 分产业分市统计"
   ]
  },
  {
   "cell_type": "code",
   "execution_count": null,
   "id": "4c8b1cb8",
   "metadata": {},
   "outputs": [],
   "source": [
    "df1=pd.read_excel(r'C:\\Users\\1118\\script_qsy\\b2019_地址匹配.xlsx')\n",
    "\n",
    "excel_name = r'E:\\思懿-已更新数据文件夹2\\qsy_1基本信息\\产业链信息汇总_未去重_1.xlsx'  #打开多个sheet的表格\n",
    "wb = xlrd.open_workbook(excel_name) \n",
    "sheets = wb.sheet_names()  # 获取workbook中所有的表格\n",
    "# 下面循环遍历所有sheet\n",
    "df2 = DataFrame()\n",
    "for i in range(len(sheets)):\n",
    "    df = pd.read_excel(excel_name, sheet_name=i,usecols=[1,4])\n",
    "    df2 = df2.append(df)\n",
    "#所有sheet的结果合在df2中\n",
    "#result.to_excel(\"产业链公司编码.xlsx\") #输出结果\n",
    "\n",
    "RESULT = df1.merge(df2,how='left',on=['公司编码'])\n",
    "RESULT = RESULT.drop_duplicates(subset=['产业','公司编码'])\n",
    "\n",
    "result2 = pd.DataFrame(RESULT.groupby(['产业','所属市'])['公司编码'].count()) #ppt时细分到“产业”\n",
    "result2.to_excel(\"产业b2019_output1.xlsx\") #输出结果"
   ]
  },
  {
   "cell_type": "markdown",
   "id": "23e37f93",
   "metadata": {},
   "source": [
    "#### 合并"
   ]
  },
  {
   "cell_type": "code",
   "execution_count": null,
   "id": "c9637abe",
   "metadata": {},
   "outputs": [],
   "source": [
    "import openpyxl\n",
    "import xlrd\n",
    "import pandas as pd\n",
    "import numpy as np\n",
    "from  pandas import DataFrame\n",
    "from openpyxl import load_workbook\n",
    "xlrd.xlsx.ensure_elementtree_imported(False, None)\n",
    "xlrd.xlsx.Element_has_iter = True"
   ]
  },
  {
   "cell_type": "code",
   "execution_count": null,
   "id": "6dc3eebd",
   "metadata": {},
   "outputs": [],
   "source": [
    "excel_name = r'E:\\思懿-已更新数据文件夹2\\qsy_1基本信息\\过程文件\\0927区位熵\\产业链信息b2019_output汇总.xlsx'  #打开多个sheet的表格\n",
    "wb = xlrd.open_workbook(excel_name) \n",
    "sheets = wb.sheet_names()  # 获取workbook中所有的表格\n",
    "# 下面循环遍历所有sheet\n",
    "df2 = DataFrame()\n",
    "for i in range(len(sheets)):\n",
    "    df = pd.read_excel(excel_name, sheet_name=i)\n",
    "    df2 = df2.append(df)\n",
    "\n",
    "RESULT_tb = df2\n",
    "RESULT_tb = pd.DataFrame(RESULT_tb.groupby(RESULT_tb['重新聚类产业链','所属市'].sum())\n",
    "RESULT_tb.to_excel(\"产业链信息b2019_output_progress.xlsx\") #输出结果"
   ]
  },
  {
   "cell_type": "code",
   "execution_count": null,
   "id": "da712877",
   "metadata": {},
   "outputs": [],
   "source": [
    "df2.to_excel(\"产业链信息b2019_output_progress.xlsx\") #输出结果"
   ]
  },
  {
   "cell_type": "markdown",
   "id": "370f1ed8",
   "metadata": {},
   "source": [
    "#### 按产业分sheet"
   ]
  },
  {
   "cell_type": "code",
   "execution_count": null,
   "id": "5d9be87c",
   "metadata": {},
   "outputs": [],
   "source": [
    "import pandas as pd\n",
    "\n",
    "split = pd.read_excel(r'C:\\Users\\1118\\script_qsy\\产业b2019_output_progress3.xlsx')\n",
    "writer = pd.ExcelWriter(r'C:\\Users\\1118\\script_qsy\\产业b2019_output_progress_split.xlsx')\n",
    "CYs = set(split['产业'].values)\n",
    "for CY in CYs:\n",
    "    splited = split[split.产业==CY]\n",
    "    splited.to_excel(writer,sheet_name=CY,index=False)\n",
    "writer.save()"
   ]
  },
  {
   "cell_type": "code",
   "execution_count": null,
   "id": "3b630cc2",
   "metadata": {},
   "outputs": [],
   "source": [
    "excel_name = r'C:\\Users\\1118\\script_qsy\\产业b2019_output_progress_split.xlsx'  #打开多个sheet的表格\n",
    "wb = xlrd.open_workbook(excel_name) \n",
    "sheets = wb.sheet_names()  # 获取workbook中所有的表格\n",
    "# 下面循环遍历所有sheet\n",
    "df = DataFrame()\n",
    "df2 = pd.read_excel(r'C:\\Users\\1118\\script_qsy\\df2.xlsx')"
   ]
  },
  {
   "cell_type": "code",
   "execution_count": null,
   "id": "c0ee10b0",
   "metadata": {},
   "outputs": [],
   "source": [
    "df_merge = DataFrame()\n",
    "for i in range(len(sheets)):\n",
    "    df = pd.read_excel(excel_name, sheet_name=i)\n",
    "#    m = f'name{i}'\n",
    "#    exec(m+'=%s'%(df))\n",
    "    df_merge = df2.merge(df, on=['所属市'], how='outer')\n",
    "    df2 = df_merge\n",
    "    if i%10 == 0:\n",
    "        print(i)\n",
    "\n",
    "df_merge.to_excel(\"产业区位熵2019_output.xlsx\") #输出结果    "
   ]
  }
 ],
 "metadata": {
  "kernelspec": {
   "display_name": "Python 3 (ipykernel)",
   "language": "python",
   "name": "python3"
  },
  "language_info": {
   "codemirror_mode": {
    "name": "ipython",
    "version": 3
   },
   "file_extension": ".py",
   "mimetype": "text/x-python",
   "name": "python",
   "nbconvert_exporter": "python",
   "pygments_lexer": "ipython3",
   "version": "3.9.7"
  }
 },
 "nbformat": 4,
 "nbformat_minor": 5
}
