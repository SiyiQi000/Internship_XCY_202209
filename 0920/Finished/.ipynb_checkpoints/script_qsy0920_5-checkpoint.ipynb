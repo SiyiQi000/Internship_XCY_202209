{
 "cells": [
  {
   "cell_type": "markdown",
   "id": "4d1c8520",
   "metadata": {},
   "source": [
    "## 任务4，将所有结果合并"
   ]
  },
  {
   "cell_type": "markdown",
   "id": "7e8c54d9",
   "metadata": {},
   "source": [
    "#### run之前整理好各表，加‘所属市’和‘年份’列名，‘年份’下分4个年"
   ]
  },
  {
   "cell_type": "code",
   "execution_count": null,
   "id": "21f11c62",
   "metadata": {},
   "outputs": [],
   "source": [
    "import pandas as pd\n",
    "import numpy as np\n",
    "\n",
    "df1=pd.read_excel(r'...\\2.投融资-1新增-1A股（输出）.xlsx') \n",
    "#df1\n",
    "df2=pd.read_excel(r'...\\2.投融资-1新增-2工商投资（输出）.xlsx') \n",
    "#df2 ...下同，把所有表打开赋值\n",
    "\n",
    "result = df1.merge(df2,df3,...,how='left',on=['所属市'])  #将两个表合并到左表df1,on'所属市',result\n",
    "\n",
    "result.to_excel(\"分市统计总表（输出）.xlsx\") #输出结果"
   ]
  }
 ],
 "metadata": {
  "kernelspec": {
   "display_name": "Python 3 (ipykernel)",
   "language": "python",
   "name": "python3"
  },
  "language_info": {
   "codemirror_mode": {
    "name": "ipython",
    "version": 3
   },
   "file_extension": ".py",
   "mimetype": "text/x-python",
   "name": "python",
   "nbconvert_exporter": "python",
   "pygments_lexer": "ipython3",
   "version": "3.9.7"
  }
 },
 "nbformat": 4,
 "nbformat_minor": 5
}
