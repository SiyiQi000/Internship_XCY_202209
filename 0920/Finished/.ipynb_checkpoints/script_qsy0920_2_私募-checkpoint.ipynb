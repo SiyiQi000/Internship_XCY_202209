{
 "cells": [
  {
   "cell_type": "code",
   "execution_count": null,
   "id": "ab0f2fa2",
   "metadata": {},
   "outputs": [],
   "source": [
    "import pandas as pd\n",
    "import numpy as np\n",
    "\n",
    "result=pd.read_excel(r'E:\\思懿-已更新数据文件夹2\\qsy_1基本信息\\地址匹配.xlsx') "
   ]
  },
  {
   "cell_type": "code",
   "execution_count": null,
   "id": "dc27ce27",
   "metadata": {},
   "outputs": [],
   "source": [
    "#### 表'2.投融资-5私募.xlsx'\n",
    "\n",
    "df2=pd.read_excel(r'E:\\思懿-已更新数据文件夹2\\qsy_2投融资\\2.投融资-5私募.xlsx')  #打开表,df2\n",
    "\n",
    "#df2\n",
    "result2 = result.merge(df2,how='left',on=['公司编码'])  #将两个表合并到左表result,on'公司编码',result2\n",
    "result2 = result2[~result2['融资时间'].isin(['不详','——','2010-06-','2000-06-','2010-12-','2015-08-'])]\n",
    "#result\n",
    "result2['融资时间']=pd.to_datetime(result2['融资时间']) #改为时间格式\n",
    "##b2022\n",
    "result2_b2022 = result2[result2['融资时间']<pd.datetime(2022,1,1)] #只取2022年之前\n",
    "\n",
    "result2_b2022_count = pd.DataFrame(result2_b2022.groupby(result2_b2022[\"所属市\"])['公司编码'].count())\n",
    "#改名\n",
    "result2_b2022_count=result2_b2022_count.rename(columns={'公司编码':'公司编码_b2022_count'})\n",
    "result2_b2022_final=result2_b2022_count\n",
    "\n",
    "\n",
    "##b2021\n",
    "result2_b2021 = result2[result2['融资时间']<pd.datetime(2021,1,1)] #只取2021年之前\n",
    "\n",
    "result2_b2021_count = pd.DataFrame(result2_b2021.groupby(result2_b2021[\"所属市\"])['公司编码'].count())\n",
    "#改名\n",
    "result2_b2021_count=result2_b2021_count.rename(columns={'公司编码':'公司编码_b2021_count'})\n",
    "result2_b2021_final=result2_b2021_count\n",
    "\n",
    "##b2020\n",
    "result2_b2020 = result2[result2['融资时间']<pd.datetime(2020,1,1)] #只取2020年之前\n",
    "\n",
    "result2_b2020_count = pd.DataFrame(result2_b2020.groupby(result2_b2020[\"所属市\"])['公司编码'].count())\n",
    "#改名\n",
    "result2_b2020_count=result2_b2020_count.rename(columns={'公司编码':'公司编码_b2020_count'})\n",
    "result2_b2020_final=result2_b2020_count\n",
    "\n",
    "##b2019\n",
    "result2_b2019 = result2[result2['融资时间']<pd.datetime(2019,1,1)] #只取2019年之前\n",
    "\n",
    "result2_b2019_count = pd.DataFrame(result2_b2019.groupby(result2_b2019[\"所属市\"])['公司编码'].count())\n",
    "#改名\n",
    "result2_b2019_count=result2_b2019_count.rename(columns={'公司编码':'公司编码_b2019_count'})\n",
    "result2_b2019_final=result2_b2019_count\n",
    "\n",
    "##合并年份4个表并输出\n",
    "tbs = [result2_b2021_final,result2_b2020_final,result2_b2019_final]\n",
    "result2_final = result2_b2022_final\n",
    "for tb in tbs:\n",
    "    result2_final = result2_final.merge(tb, on=['所属市'], how='outer')\n",
    "\n",
    "result2_final.to_excel(\"2.投融资-5私募_output.xlsx\") #输出结果"
   ]
  }
 ],
 "metadata": {
  "kernelspec": {
   "display_name": "Python 3 (ipykernel)",
   "language": "python",
   "name": "python3"
  },
  "language_info": {
   "codemirror_mode": {
    "name": "ipython",
    "version": 3
   },
   "file_extension": ".py",
   "mimetype": "text/x-python",
   "name": "python",
   "nbconvert_exporter": "python",
   "pygments_lexer": "ipython3",
   "version": "3.9.7"
  }
 },
 "nbformat": 4,
 "nbformat_minor": 5
}
