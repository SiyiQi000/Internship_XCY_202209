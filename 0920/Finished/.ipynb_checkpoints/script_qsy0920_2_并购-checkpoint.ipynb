{
 "cells": [
  {
   "cell_type": "code",
   "execution_count": null,
   "id": "ab0f2fa2",
   "metadata": {},
   "outputs": [],
   "source": [
    "import pandas as pd\n",
    "import numpy as np\n",
    "\n",
    "result=pd.read_excel(r'E:\\思懿-已更新数据文件夹2\\qsy_1基本信息\\地址匹配.xlsx') "
   ]
  },
  {
   "cell_type": "code",
   "execution_count": null,
   "id": "3291de2b",
   "metadata": {},
   "outputs": [],
   "source": [
    "#### 表'2.投融资-4并购.xlsx'\n",
    "df2=pd.read_excel(r'E:\\思懿-已更新数据文件夹2\\qsy_2投融资\\2.投融资-4并购.xlsx')  #打开表,df2\n",
    "result2 = result.merge(df2,how='left',on=['公司编码'])  #将两个表合并到左表result,on'公司编码',result2"
   ]
  },
  {
   "cell_type": "code",
   "execution_count": null,
   "id": "6b30c143",
   "metadata": {},
   "outputs": [],
   "source": [
    "result2['公告时间']=pd.to_datetime(result2['公告时间']) #改为时间格式"
   ]
  },
  {
   "cell_type": "code",
   "execution_count": null,
   "id": "0c6c7997",
   "metadata": {},
   "outputs": [],
   "source": [
    "##b2022\n",
    "result2_b2022 = result2[result2['公告时间']<pd.datetime(2022,1,1)] #只取2022年之前\n",
    "\n",
    "result2_b2022_sum = pd.DataFrame(result2_b2022.groupby(result2_b2022[\"所属市\"])['并购金额(万元)'].sum())\n",
    "result2_b2022_count = pd.DataFrame(result2_b2022.groupby(result2_b2022[\"所属市\"])['并购金额(万元)'].count())\n",
    "result2_b2022_mean = pd.DataFrame(result2_b2022.groupby(result2_b2022[\"所属市\"])['并购金额(万元)'].mean())\n",
    "\n",
    "#改名\n",
    "result2_b2022_sum=result2_b2022_sum.rename(columns={'并购金额(万元)':'并购金额(万元)_b2022_sum'})\n",
    "result2_b2022_count=result2_b2022_count.rename(columns={'并购金额(万元)':'并购金额(万元)_b2022_count'})\n",
    "result2_b2022_mean=result2_b2022_mean.rename(columns={'并购金额(万元)':'并购金额(万元)_b2022_mean'})\n",
    "\n",
    "tbs = [result2_b2022_count,result2_b2022_mean]\n",
    "result2_b2022_final = result2_b2022_sum\n",
    "for tb in tbs:\n",
    "    result2_b2022_final = result2_b2022_final.merge(tb, on=['所属市'], how='outer')\n",
    "\n",
    "##b2021\n",
    "result2_b2021 = result2[result2['公告时间']<pd.datetime(2021,1,1)] #只取2021年之前\n",
    "\n",
    "result2_b2021_sum = pd.DataFrame(result2_b2021.groupby(result2_b2021[\"所属市\"])['并购金额(万元)'].sum())\n",
    "result2_b2021_count = pd.DataFrame(result2_b2021.groupby(result2_b2021[\"所属市\"])['并购金额(万元)'].count())\n",
    "result2_b2021_mean = pd.DataFrame(result2_b2021.groupby(result2_b2021[\"所属市\"])['并购金额(万元)'].mean())\n",
    "\n",
    "#改名\n",
    "result2_b2021_sum=result2_b2021_sum.rename(columns={'并购金额(万元)':'并购金额(万元)_b2021_sum'})\n",
    "result2_b2021_count=result2_b2021_count.rename(columns={'并购金额(万元)':'并购金额(万元)_b2021_count'})\n",
    "result2_b2021_mean=result2_b2021_mean.rename(columns={'并购金额(万元)':'并购金额(万元)_b2021_mean'})\n",
    "\n",
    "tbs = [result2_b2021_count,result2_b2021_mean]\n",
    "result2_b2021_final = result2_b2021_sum\n",
    "for tb in tbs:\n",
    "    result2_b2021_final = result2_b2021_final.merge(tb, on=['所属市'], how='outer')\n",
    "\n",
    "##b2020\n",
    "result2_b2020 = result2[result2['公告时间']<pd.datetime(2020,1,1)] #只取2020年之前\n",
    "\n",
    "result2_b2020_sum = pd.DataFrame(result2_b2020.groupby(result2_b2020[\"所属市\"])['并购金额(万元)'].sum())\n",
    "result2_b2020_count = pd.DataFrame(result2_b2020.groupby(result2_b2020[\"所属市\"])['并购金额(万元)'].count())\n",
    "result2_b2020_mean = pd.DataFrame(result2_b2020.groupby(result2_b2020[\"所属市\"])['并购金额(万元)'].mean())\n",
    "\n",
    "#改名\n",
    "result2_b2020_sum=result2_b2020_sum.rename(columns={'并购金额(万元)':'并购金额(万元)_b2020_sum'})\n",
    "result2_b2020_count=result2_b2020_count.rename(columns={'并购金额(万元)':'并购金额(万元)_b2020_count'})\n",
    "result2_b2020_mean=result2_b2020_mean.rename(columns={'并购金额(万元)':'并购金额(万元)_b2020_mean'})\n",
    "\n",
    "tbs = [result2_b2020_count,result2_b2020_mean]\n",
    "result2_b2020_final = result2_b2020_sum\n",
    "for tb in tbs:\n",
    "    result2_b2020_final = result2_b2020_final.merge(tb, on=['所属市'], how='outer')\n",
    "\n",
    "##b2019\n",
    "result2_b2019 = result2[result2['公告时间']<pd.datetime(2019,1,1)] #只取2019年之前\n",
    "\n",
    "result2_b2019_sum = pd.DataFrame(result2_b2019.groupby(result2_b2019[\"所属市\"])['并购金额(万元)'].sum())\n",
    "result2_b2019_count = pd.DataFrame(result2_b2019.groupby(result2_b2019[\"所属市\"])['并购金额(万元)'].count())\n",
    "result2_b2019_mean = pd.DataFrame(result2_b2019.groupby(result2_b2019[\"所属市\"])['并购金额(万元)'].mean())\n",
    "\n",
    "#改名\n",
    "result2_b2019_sum=result2_b2019_sum.rename(columns={'并购金额(万元)':'并购金额(万元)_b2019_sum'})\n",
    "result2_b2019_count=result2_b2019_count.rename(columns={'并购金额(万元)':'并购金额(万元)_b2019_count'})\n",
    "result2_b2019_mean=result2_b2019_mean.rename(columns={'并购金额(万元)':'并购金额(万元)_b2019_mean'})\n",
    "\n",
    "tbs = [result2_b2019_count,result2_b2019_mean]\n",
    "result2_b2019_final = result2_b2019_sum\n",
    "for tb in tbs:\n",
    "    result2_b2019_final = result2_b2019_final.merge(tb, on=['所属市'], how='outer')\n",
    "\n",
    "\n",
    "##合并年份4个表并输出\n",
    "tbs = [result2_b2021_final,result2_b2020_final,result2_b2019_final]\n",
    "result2_final = result2_b2022_final\n",
    "for tb in tbs:\n",
    "    result2_final = result2_final.merge(tb, on=['所属市'], how='outer')\n",
    "\n",
    "result2_final.to_excel(\"2.投融资-4并购_output.xlsx\") #输出结果"
   ]
  },
  {
   "cell_type": "code",
   "execution_count": null,
   "id": "8d3383ad",
   "metadata": {},
   "outputs": [],
   "source": [
    "'''\n",
    "#字符串转时间示例\n",
    "from datetime import datetime\n",
    "text = '2012-09-20'\n",
    "y = datetime.strptime(text, '%Y-%m-%d')\n",
    "'''"
   ]
  }
 ],
 "metadata": {
  "kernelspec": {
   "display_name": "Python 3 (ipykernel)",
   "language": "python",
   "name": "python3"
  },
  "language_info": {
   "codemirror_mode": {
    "name": "ipython",
    "version": 3
   },
   "file_extension": ".py",
   "mimetype": "text/x-python",
   "name": "python",
   "nbconvert_exporter": "python",
   "pygments_lexer": "ipython3",
   "version": "3.9.7"
  }
 },
 "nbformat": 4,
 "nbformat_minor": 5
}
