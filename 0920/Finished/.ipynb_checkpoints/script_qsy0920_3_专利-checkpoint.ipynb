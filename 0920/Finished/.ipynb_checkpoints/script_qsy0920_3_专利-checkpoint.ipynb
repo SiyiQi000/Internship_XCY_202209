{
 "cells": [
  {
   "cell_type": "markdown",
   "id": "7651d380",
   "metadata": {},
   "source": [
    "#### 表'3.技术产品-1专利（1）.xlsx' "
   ]
  },
  {
   "cell_type": "code",
   "execution_count": null,
   "id": "52d4bcde",
   "metadata": {},
   "outputs": [],
   "source": [
    "import openpyxl\n",
    "import xlrd\n",
    "import pandas as pd\n",
    "import numpy as np\n",
    "from  pandas import DataFrame\n",
    "from openpyxl import load_workbook\n",
    "xlrd.xlsx.ensure_elementtree_imported(False, None)\n",
    "xlrd.xlsx.Element_has_iter = True\n",
    "\n",
    "result=pd.read_excel(r'E:\\思懿-已更新数据文件夹2\\qsy_1基本信息\\地址匹配.xlsx') "
   ]
  },
  {
   "cell_type": "code",
   "execution_count": null,
   "id": "05138fbb",
   "metadata": {},
   "outputs": [],
   "source": [
    "excel_name = r'E:\\思懿-已更新数据文件夹2\\qsy_3技术产品\\3.技术产品-1专利（1）_拆分.xlsx'  #打开多个sheet的表格\n",
    "\n",
    "wb = xlrd.open_workbook(excel_name) \n",
    "sheets = wb.sheet_names()  # 获取workbook中所有的表格\n",
    "# 下面循环遍历所有sheet\n",
    "df2 = DataFrame()\n",
    "for i in range(len(sheets)): #每次读2个sheet\n",
    "    df = pd.read_excel(excel_name, sheet_name=i)\n",
    "    df2 = df2.append(df)\n",
    "#所有sheet的结果合在df2中\n",
    "\n",
    "result2 = result.merge(df2,how='left',on=['公司编码'])  #将两个表合并到左表result,on'公司编码',result2\n",
    "#result\n",
    "\n",
    "result2['申请公布日']=pd.to_datetime(result2['申请公布日']) #改为时间格式\n",
    "#print(result2.info())\n",
    "\n",
    "##b2022\n",
    "result2_b2022 = result2[result2['申请公布日']<pd.datetime(2022,1,1)] #只取2022年之前\n",
    "result2_b2022 = result2_b2022[result2_b2022['专利状态'].isin(['有效'])]\n",
    "result2_b2022_count = pd.DataFrame(result2_b2022.groupby(result2_b2022[\"所属市\"])['公司编码'].count())\n",
    "#改名\n",
    "result2_b2022_count=result2_b2022_count.rename(columns={'公司编码':'公司编码_b2022_count'})\n",
    "result2_b2022_final=result2_b2022_count\n",
    "\n",
    "##b2021\n",
    "result2_b2021 = result2[result2['申请公布日']<pd.datetime(2021,1,1)] #只取2021年之前\n",
    "result2_b2021 = result2_b2021[result2_b2021['专利状态'].isin(['有效'])]\n",
    "result2_b2021_count = pd.DataFrame(result2_b2021.groupby(result2_b2021[\"所属市\"])['公司编码'].count())\n",
    "#改名\n",
    "result2_b2021_count=result2_b2021_count.rename(columns={'公司编码':'公司编码_b2021_count'})\n",
    "result2_b2021_final=result2_b2021_count\n",
    "\n",
    "##b2020\n",
    "result2_b2020 = result2[result2['申请公布日']<pd.datetime(2020,1,1)] #只取2020年之前\n",
    "result2_b2020 = result2_b2020[result2_b2020['专利状态'].isin(['有效'])]\n",
    "result2_b2020_count = pd.DataFrame(result2_b2020.groupby(result2_b2020[\"所属市\"])['公司编码'].count())\n",
    "#改名\n",
    "result2_b2020_count=result2_b2020_count.rename(columns={'公司编码':'公司编码_b2020_count'})\n",
    "result2_b2020_final=result2_b2020_count\n",
    "\n",
    "##b2019\n",
    "result2_b2019 = result2[result2['申请公布日']<pd.datetime(2019,1,1)] #只取2019年之前\n",
    "result2_b2019 = result2_b2019[result2_b2019['专利状态'].isin(['有效'])]\n",
    "result2_b2019_count = pd.DataFrame(result2_b2019.groupby(result2_b2019[\"所属市\"])['公司编码'].count())\n",
    "#改名\n",
    "result2_b2019_count=result2_b2019_count.rename(columns={'公司编码':'公司编码_b2019_count'})\n",
    "result2_b2019_final=result2_b2019_count\n",
    "\n",
    "##合并年份4个表并输出\n",
    "tbs = [result2_b2021_final,result2_b2020_final,result2_b2019_final]\n",
    "result2_final = result2_b2022_final\n",
    "for tb in tbs:\n",
    "    result2_final = result2_final.merge(tb, on=['所属市'], how='outer')\n",
    "\n",
    "result2_final.to_excel(\"3.技术产品-1专利（1）_output1.xlsx\") #输出结果"
   ]
  },
  {
   "cell_type": "markdown",
   "id": "5ae723ef",
   "metadata": {},
   "source": [
    "#### 表'3.技术产品-1专利（2）.xlsx' "
   ]
  },
  {
   "cell_type": "code",
   "execution_count": null,
   "id": "fe8ff89d",
   "metadata": {},
   "outputs": [],
   "source": [
    "excel_name = r'E:\\思懿-已更新数据文件夹2\\qsy_3技术产品\\3.技术产品-1专利（2）.xlsx'  #打开多个sheet的表格\n",
    "\n",
    "wb = xlrd.open_workbook(excel_name) \n",
    "sheets = wb.sheet_names()  # 获取workbook中所有的表格\n",
    "# 下面循环遍历所有sheet\n",
    "df2 = DataFrame()\n",
    "for i in range(len(sheets)):\n",
    "    df = pd.read_excel(excel_name, sheet_name=i)\n",
    "    df2 = df2.append(df)\n",
    "#所有sheet的结果合在df2中\n",
    "\n",
    "result2 = result.merge(df2,how='left',on=['公司编码'])  #将两个表合并到左表result,on'公司编码',result2\n",
    "#result\n",
    "\n",
    "result2['申请公布日']=pd.to_datetime(result2['申请公布日']) #改为时间格式\n",
    "#print(result2.info())\n",
    "\n",
    "##b2022\n",
    "result2_b2022 = result2[result2['申请公布日']<pd.datetime(2022,1,1)] #只取2022年之前\n",
    "result2_b2022 = result2_b2022[result2_b2022['专利状态'].isin(['有效'])]\n",
    "result2_b2022_count = pd.DataFrame(result2_b2022.groupby(result2_b2022[\"所属市\"])['公司编码'].count())\n",
    "#改名\n",
    "result2_b2022_count=result2_b2022_count.rename(columns={'公司编码':'公司编码_b2022_count'})\n",
    "result2_b2022_final=result2_b2022_count\n",
    "\n",
    "##b2021\n",
    "result2_b2021 = result2[result2['申请公布日']<pd.datetime(2021,1,1)] #只取2021年之前\n",
    "result2_b2021 = result2_b2021[result2_b2021['专利状态'].isin(['有效'])]\n",
    "result2_b2021_count = pd.DataFrame(result2_b2021.groupby(result2_b2021[\"所属市\"])['公司编码'].count())\n",
    "#改名\n",
    "result2_b2021_count=result2_b2021_count.rename(columns={'公司编码':'公司编码_b2021_count'})\n",
    "result2_b2021_final=result2_b2021_count\n",
    "\n",
    "##b2020\n",
    "result2_b2020 = result2[result2['申请公布日']<pd.datetime(2020,1,1)] #只取2020年之前\n",
    "result2_b2020 = result2_b2020[result2_b2020['专利状态'].isin(['有效'])]\n",
    "result2_b2020_count = pd.DataFrame(result2_b2020.groupby(result2_b2020[\"所属市\"])['公司编码'].count())\n",
    "#改名\n",
    "result2_b2020_count=result2_b2020_count.rename(columns={'公司编码':'公司编码_b2020_count'})\n",
    "result2_b2020_final=result2_b2020_count\n",
    "\n",
    "##b2019\n",
    "result2_b2019 = result2[result2['申请公布日']<pd.datetime(2019,1,1)] #只取2019年之前\n",
    "result2_b2019 = result2_b2019[result2_b2019['专利状态'].isin(['有效'])]\n",
    "result2_b2019_count = pd.DataFrame(result2_b2019.groupby(result2_b2019[\"所属市\"])['公司编码'].count())\n",
    "#改名\n",
    "result2_b2019_count=result2_b2019_count.rename(columns={'公司编码':'公司编码_b2019_count'})\n",
    "result2_b2019_final=result2_b2019_count\n",
    "\n",
    "##合并年份4个表并输出\n",
    "tbs = [result2_b2021_final,result2_b2020_final,result2_b2019_final]\n",
    "result2_final = result2_b2022_final\n",
    "for tb in tbs:\n",
    "    result2_final = result2_final.merge(tb, on=['所属市'], how='outer')\n",
    "\n",
    "result2_final.to_excel(\"3.技术产品-1专利（2）_output.xlsx\") #输出结果"
   ]
  },
  {
   "cell_type": "markdown",
   "id": "817a0439",
   "metadata": {},
   "source": [
    "#### 合并所有结果"
   ]
  },
  {
   "cell_type": "code",
   "execution_count": null,
   "id": "f7ad0a32",
   "metadata": {},
   "outputs": [],
   "source": [
    "excel_name = r'E:\\思懿-已更新数据文件夹2\\qsy_3技术产品\\专利_统计汇总.xlsx'  #打开多个sheet的表格\n",
    "wb = xlrd.open_workbook(excel_name) \n",
    "sheets = wb.sheet_names()  # 获取workbook中所有的表格\n",
    "# 下面循环遍历所有sheet\n",
    "df2 = DataFrame()\n",
    "for i in range(len(sheets)):\n",
    "    df = pd.read_excel(excel_name, sheet_name=i)\n",
    "    df2 = df2.append(df)\n",
    "#所有sheet的结果合在df2中\n",
    "df2.to_excel(\"专利_汇总_process.xlsx\") #输出结果"
   ]
  },
  {
   "cell_type": "code",
   "execution_count": null,
   "id": "763d7491",
   "metadata": {},
   "outputs": [],
   "source": [
    "output = pd.DataFrame(df2.groupby(df2[\"所属市\"])['公司编码_b2022_count','公司编码_b2021_count','公司编码_b2020_count','公司编码_b2019_count'].sum())\n",
    "output.to_excel(\"专利_汇总_output.xlsx\") #输出结果"
   ]
  }
 ],
 "metadata": {
  "kernelspec": {
   "display_name": "Python 3 (ipykernel)",
   "language": "python",
   "name": "python3"
  },
  "language_info": {
   "codemirror_mode": {
    "name": "ipython",
    "version": 3
   },
   "file_extension": ".py",
   "mimetype": "text/x-python",
   "name": "python",
   "nbconvert_exporter": "python",
   "pygments_lexer": "ipython3",
   "version": "3.9.7"
  }
 },
 "nbformat": 4,
 "nbformat_minor": 5
}
