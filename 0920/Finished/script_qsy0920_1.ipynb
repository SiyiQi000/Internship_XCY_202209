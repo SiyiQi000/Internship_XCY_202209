{
 "cells": [
  {
   "cell_type": "markdown",
   "id": "4d1c8520",
   "metadata": {},
   "source": [
    "## 任务1，基本信息表  !因无法调试各表，重复使用了变量名，需一个表一个表run"
   ]
  },
  {
   "cell_type": "markdown",
   "id": "fb80c0fc",
   "metadata": {},
   "source": [
    "#### 地址表与补充表合并"
   ]
  },
  {
   "cell_type": "code",
   "execution_count": null,
   "id": "bd440183",
   "metadata": {},
   "outputs": [],
   "source": [
    "import pandas as pd\n",
    "import numpy as np\n",
    "\n",
    "df1=pd.read_excel(r'E:\\思懿-已更新数据文件夹2\\qsy_1基本信息\\c220919_name_matched.xlsx')  #df1\n",
    "#df1\n",
    "df0=pd.read_excel(r'E:\\思懿-已更新数据文件夹2\\qsy_1基本信息\\2021城区范围_merge.xlsx')  #df0\n",
    "#df0\n",
    "\n",
    "result = df1.merge(df0,how='left',on=['区域代码'])  #将两个表合并到左表df1,on'公司编码',result\n",
    "result.to_excel(\"c220919_name_matched_2.xlsx\") #输出结果"
   ]
  },
  {
   "cell_type": "code",
   "execution_count": null,
   "id": "07842be4",
   "metadata": {},
   "outputs": [],
   "source": [
    "import pandas as pd\n",
    "import numpy as np\n",
    "\n",
    "df1=pd.read_excel(r'E:\\思懿-已更新数据文件夹2\\qsy_1基本信息\\c220919_code_matched.xlsx')  #df1\n",
    "#df1\n",
    "df0=pd.read_excel(r'E:\\思懿-已更新数据文件夹2\\qsy_1基本信息\\2021城区范围_merge.xlsx')  #df0\n",
    "#df0\n",
    "\n",
    "result = df1.merge(df0,how='left',on=['区域代码'])  #将两个表合并到左表df1,on'公司编码',result\n",
    "result.to_excel(\"c220919_code_matched_2.xlsx\") #输出结果"
   ]
  },
  {
   "cell_type": "markdown",
   "id": "b2445f95",
   "metadata": {},
   "source": [
    "#### 合并表'c220919_code_matched.xlsx'"
   ]
  },
  {
   "cell_type": "code",
   "execution_count": null,
   "id": "087ff675",
   "metadata": {},
   "outputs": [],
   "source": [
    "import pandas as pd\n",
    "import numpy as np\n",
    "\n",
    "df1=pd.read_excel(r'E:\\思懿-已更新数据文件夹2\\qsy_1基本信息\\1.基本信息-1基本信息.xlsx')  #打开基础信息表，df1\n",
    "#df1"
   ]
  },
  {
   "cell_type": "code",
   "execution_count": null,
   "id": "93fab592",
   "metadata": {},
   "outputs": [],
   "source": [
    "df0=pd.read_excel(r'E:\\思懿-已更新数据文件夹2\\qsy_1基本信息\\c220919_code_matched_2.xlsx')  #打开补充表,df0\n",
    "#df0\n",
    "\n",
    "result = df1.merge(df0,how='left',on=['统一社会信用代码'])  #将两个表合并到左表df1,on'公司编码',result\n",
    "#result\n",
    "#result.loc[result['注册资本金额（元）_x'].isna(),'注册资本金额（元）_x']=result[result['注册资本金额（元）_x'].isna()]['注册资本金额（元）_y']\n",
    "result.loc[result['成立日期_x'].isna(),'成立日期_x']=result[result['成立日期_x'].isna()]['成立日期_y']\n",
    "result.loc[result['注册状态_x'].isna(),'注册状态_x']=result[result['注册状态_x'].isna()]['注册状态_y']\n",
    "#result.loc[result['注册地址_x'].isna(),'注册地址_x']=result[result['注册地址_x'].isna()]['注册地址_y']\n",
    "#result.loc[result['所属省_x'].isna(),'所属省_x']=result[result['所属省_x'].isna()]['所属省_y']\n",
    "result.loc[result['所属市_x'].isna(),'所属市_x']=result[result['所属市_x'].isna()]['所属市_y']\n",
    "#result.loc[result['所属区_x'].isna(),'所属区_x']=result[result['所属区_x'].isna()]['所属区_y']\n",
    "result.loc[result['注册资本币种_x'].isna(),'注册资本币种_x']=result[result['注册资本币种_x'].isna()]['注册资本币种_y']\n",
    "#用有新数据的'_y'列替换'_x'列的空值\n",
    "#result\n",
    "result = result[result['公司名称'].notna()]\n",
    "result = result[result['公司编码'].notna()]\n",
    "#删除没有‘公司名称’和‘公司编码’的行\n",
    "result.to_excel(\"1.基本信息-1基本信息（补充后）1.xlsx\") #输出结果"
   ]
  },
  {
   "cell_type": "markdown",
   "id": "09ac6151",
   "metadata": {},
   "source": [
    "#### 合并表'c220919_name_matched.xlsx'"
   ]
  },
  {
   "cell_type": "code",
   "execution_count": null,
   "id": "bfae1e34",
   "metadata": {},
   "outputs": [],
   "source": [
    "import pandas as pd\n",
    "import numpy as np\n",
    "df1=pd.read_excel(r'E:\\思懿-已更新数据文件夹2\\qsy_1基本信息\\1.基本信息-1基本信息（补充后）1.xlsx')  #打开基础信息表，df1\n",
    "df0=pd.read_excel(r'E:\\思懿-已更新数据文件夹2\\qsy_1基本信息\\c220919_name_matched_2.xlsx')  #打开补充表,df0\n",
    "#df0"
   ]
  },
  {
   "cell_type": "code",
   "execution_count": null,
   "id": "8e8b1f70",
   "metadata": {},
   "outputs": [],
   "source": [
    "result = df1.merge(df0,how='left',on=['公司名称'])  #将两个表合并到左表df1,on'公司编码',result\n",
    "#result\n",
    "#result.loc[result['注册资本金额（元）_x'].isna(),'注册资本金额（元）_x']=result[result['注册资本金额（元）_x'].isna()]['注册资本金额（元）_y']\n",
    "result.loc[result['成立日期_x'].isna(),'成立日期_x']=result[result['成立日期_x'].isna()]['成立日期_y']\n",
    "result.loc[result['注册状态_x'].isna(),'注册状态_x']=result[result['注册状态_x'].isna()]['注册状态_y']\n",
    "#result.loc[result['注册地址_x'].isna(),'注册地址_x']=result[result['注册地址_x'].isna()]['注册地址_y']\n",
    "#result.loc[result['所属省_x'].isna(),'所属省_x']=result[result['所属省_x'].isna()]['所属省_y']\n",
    "result.loc[result['所属市_x'].isna(),'所属市_x']=result[result['所属市_x'].isna()]['所属市_y']\n",
    "#result.loc[result['所属区_x'].isna(),'所属区_x']=result[result['所属区_x'].isna()]['所属区_y']\n",
    "result.loc[result['注册资本币种_x'].isna(),'注册资本币种_x']=result[result['注册资本币种_x'].isna()]['注册资本币种_y']\n",
    "#用有新数据的'_y'列替换'_x'列的空值\n",
    "#result\n",
    "result = result[result['公司名称'].notna()]\n",
    "result = result[result['公司编码'].notna()]\n",
    "#删除没有‘公司名称’和‘公司编码’的行\n",
    "result.to_excel(\"1.基本信息-1基本信息（补充后）2.xlsx\") #输出结果"
   ]
  },
  {
   "cell_type": "markdown",
   "id": "da7af6ca",
   "metadata": {},
   "source": [
    "#### 测试"
   ]
  },
  {
   "cell_type": "code",
   "execution_count": null,
   "id": "d10877e6",
   "metadata": {},
   "outputs": [],
   "source": [
    "a = pd.DataFrame(result.groupby(result[\"注册资本币种\"])['公司编码'].count())\n",
    "print(a)"
   ]
  },
  {
   "cell_type": "code",
   "execution_count": null,
   "id": "9914b69f",
   "metadata": {},
   "outputs": [],
   "source": [
    "import pandas as pd\n",
    "import numpy as np\n",
    "df1=pd.read_excel(r'E:\\思懿-已更新数据文件夹2\\qsy_1基本信息\\1.基本信息-1基本信息.xlsx')  #打开基础信息表，df1\n",
    "#df0=pd.read_excel(r'E:\\思懿-已更新数据文件夹2\\qsy_1基本信息\\c220919_name_matched_2.xlsx')  #打开补充表,df0\n",
    "#df0"
   ]
  },
  {
   "cell_type": "markdown",
   "id": "4f3a7a05",
   "metadata": {},
   "source": [
    "#### 删去2022年以及之后成立的公司"
   ]
  },
  {
   "cell_type": "code",
   "execution_count": null,
   "id": "ad49fe12",
   "metadata": {},
   "outputs": [],
   "source": [
    "import pandas as pd\n",
    "import numpy as np\n",
    "df1=pd.read_excel(r'E:\\思懿-已更新数据文件夹2\\qsy_1基本信息\\1.基本信息-1基本信息（补充后）2.xlsx')  #打开基础信息表，df1"
   ]
  },
  {
   "cell_type": "code",
   "execution_count": null,
   "id": "d5c820e4",
   "metadata": {},
   "outputs": [],
   "source": [
    "df1['成立日期']=pd.to_datetime(df1['成立日期']) #改为时间格式\n",
    "\n",
    "df1 = df1[df1['成立日期']<pd.datetime(2022,1,1)] #只取2022年之前成立\n",
    "df1.to_excel(\"1.基本信息-1基本信息（补充后）3.xlsx\") #输出结果"
   ]
  },
  {
   "cell_type": "markdown",
   "id": "207eaada",
   "metadata": {},
   "source": [
    "#### 删去2018年之前注销的公司"
   ]
  },
  {
   "cell_type": "code",
   "execution_count": null,
   "id": "aa1784b9",
   "metadata": {},
   "outputs": [],
   "source": [
    "import pandas as pd\n",
    "import numpy as np\n",
    "df1=pd.read_excel(r'E:\\思懿-已更新数据文件夹2\\qsy_1基本信息\\1.基本信息-1基本信息（补充后）3.xlsx')  #打开基础信息表，df1\n",
    "#df0=pd.read_excel(r'E:\\思懿-已更新数据文件夹2\\qsy_1基本信息\\c220919_name_matched_2.xlsx')  #打开补充表,df0\n",
    "#df0"
   ]
  },
  {
   "cell_type": "code",
   "execution_count": null,
   "id": "33e322fb",
   "metadata": {},
   "outputs": [],
   "source": [
    "df1['核准日期']=pd.to_datetime(df1['核准日期']) #改为时间格式\n",
    "df1_clean = df1.drop(df1[(df1['核准日期']<pd.datetime(2018,1,1)) & (df1['注册状态'].isin(['撤销','吊销','吊销，未注销','吊销，已注销','核准报备','核准认许','核准设立','迁出','歇业','已告解散','注销']))].index)\n",
    "\n",
    "df1_clean.to_excel(\"1.基本信息-1基本信息（补充后）cleaned.xlsx\") #输出结果"
   ]
  },
  {
   "cell_type": "markdown",
   "id": "c6ef7d92",
   "metadata": {},
   "source": [
    "#### 修改\n",
    "2018年12月31日前迁出的公司 删掉 <p>\n",
    "成立和核准日期是同一天，且状态为迁出、注销的 删掉<p>\n",
    "已告解散，但是又没有核准日期的 删掉<p>"
   ]
  },
  {
   "cell_type": "code",
   "execution_count": null,
   "id": "e858f32c",
   "metadata": {},
   "outputs": [],
   "source": [
    "import pandas as pd\n",
    "import numpy as np\n",
    "df1=pd.read_excel(r'E:\\思懿-已更新数据文件夹2\\qsy_1基本信息\\1.基本信息-1基本信息（补充后）cleaned.xlsx')  #打开基础信息表，df1"
   ]
  },
  {
   "cell_type": "code",
   "execution_count": null,
   "id": "74a6cdd3",
   "metadata": {},
   "outputs": [],
   "source": [
    "df1['核准日期']=pd.to_datetime(df1['核准日期']) #改为时间格式\n",
    "df1 = df1.drop(df1[(df1['核准日期']<pd.datetime(2019,1,1)) & (df1['注册状态'].isin(['撤销','吊销','吊销，未注销','吊销，已注销','核准报备','核准认许','核准设立','迁出','歇业','已告解散','注销']))].index)\n",
    "df1['成立日期']=pd.to_datetime(df1['成立日期']) #改为时间格式\n",
    "df1 = df1.drop(df1[(df1['核准日期']==df1['成立日期']) & (df1['注册状态'].isin(['撤销','吊销','吊销，未注销','吊销，已注销','核准报备','核准认许','核准设立','迁出','歇业','已告解散','注销']))].index)\n",
    "df1_clean = df1.drop(df1[(df1['核准日期'].isnull()) & (df1['注册状态'].isin(['撤销','吊销','吊销，未注销','吊销，已注销','核准报备','核准认许','核准设立','迁出','歇业','已告解散','注销']))].index)\n",
    "\n",
    "df1_clean.to_excel(\"1.基本信息-1基本信息（补充后）cleaned2.xlsx\") #输出结果"
   ]
  }
 ],
 "metadata": {
  "kernelspec": {
   "display_name": "Python 3 (ipykernel)",
   "language": "python",
   "name": "python3"
  },
  "language_info": {
   "codemirror_mode": {
    "name": "ipython",
    "version": 3
   },
   "file_extension": ".py",
   "mimetype": "text/x-python",
   "name": "python",
   "nbconvert_exporter": "python",
   "pygments_lexer": "ipython3",
   "version": "3.9.7"
  }
 },
 "nbformat": 4,
 "nbformat_minor": 5
}
