{
 "cells": [
  {
   "cell_type": "markdown",
   "id": "4d1c8520",
   "metadata": {},
   "source": [
    "## 任务1_1，产业链筛选和最终统计"
   ]
  },
  {
   "cell_type": "markdown",
   "id": "03dd560f",
   "metadata": {},
   "source": [
    "#### 产业链筛选"
   ]
  },
  {
   "cell_type": "code",
   "execution_count": null,
   "id": "efc18937",
   "metadata": {},
   "outputs": [],
   "source": [
    "import openpyxl\n",
    "import xlrd\n",
    "import pandas as pd\n",
    "import numpy as np\n",
    "from  pandas import DataFrame\n",
    "from openpyxl import load_workbook\n",
    "xlrd.xlsx.ensure_elementtree_imported(False, None)\n",
    "xlrd.xlsx.Element_has_iter = True"
   ]
  },
  {
   "cell_type": "code",
   "execution_count": null,
   "id": "9baeebc7",
   "metadata": {},
   "outputs": [],
   "source": [
    "df1=pd.read_excel(r'E:\\思懿-已更新数据文件夹2\\qsy_1基本信息\\再次更新-产业链筛选-最终.xlsx',sheet_name='最终确定健康产业')"
   ]
  },
  {
   "cell_type": "code",
   "execution_count": null,
   "id": "76eab0cc",
   "metadata": {},
   "outputs": [],
   "source": [
    "excel_name = r'E:\\思懿-已更新数据文件夹2\\qsy_1基本信息\\1.基本信息-3产业链信息（1）.xlsx'  #打开多个sheet的表格\n",
    "wb = xlrd.open_workbook(excel_name) \n",
    "sheets = wb.sheet_names()  # 获取workbook中所有的表格\n",
    "# 下面循环遍历所有sheet\n",
    "df2 = DataFrame()\n",
    "for i in range(len(sheets)):\n",
    "    df = pd.read_excel(excel_name, sheet_name=i,usecols=[0,1,2,3])\n",
    "    df2 = df2.append(df)\n",
    "#所有sheet的结果合在df2中"
   ]
  },
  {
   "cell_type": "code",
   "execution_count": null,
   "id": "05ba51e3",
   "metadata": {},
   "outputs": [],
   "source": [
    "result = df1.merge(df2,how='left',on=['产业链','产业'])\n",
    "result.to_excel(\"产业链筛选_output.xlsx\") #输出结果"
   ]
  },
  {
   "cell_type": "markdown",
   "id": "2381ecff",
   "metadata": {},
   "source": [
    "part 2"
   ]
  },
  {
   "cell_type": "code",
   "execution_count": null,
   "id": "b5c2f0d2",
   "metadata": {},
   "outputs": [],
   "source": [
    "result=pd.read_excel(r'E:\\思懿-已更新数据文件夹2\\qsy_1基本信息\\产业链筛选_output1.xlsx')"
   ]
  },
  {
   "cell_type": "code",
   "execution_count": null,
   "id": "09ef9def",
   "metadata": {},
   "outputs": [],
   "source": [
    "result['公司编码'].duplicated().sum()"
   ]
  },
  {
   "cell_type": "code",
   "execution_count": null,
   "id": "8683b011",
   "metadata": {},
   "outputs": [],
   "source": [
    "result=result.drop_duplicates(subset=['公司编码'])"
   ]
  },
  {
   "cell_type": "code",
   "execution_count": null,
   "id": "dd4c9eff",
   "metadata": {},
   "outputs": [],
   "source": [
    "result['公司编码'].duplicated().sum()"
   ]
  },
  {
   "cell_type": "code",
   "execution_count": null,
   "id": "eeb4c383",
   "metadata": {},
   "outputs": [],
   "source": [
    "result.to_excel(\"产业链筛选_output1.xlsx\") #输出结果"
   ]
  },
  {
   "cell_type": "code",
   "execution_count": null,
   "id": "5ea9f4d6",
   "metadata": {},
   "outputs": [],
   "source": [
    "excel_name = r'E:\\思懿-已更新数据文件夹2\\qsy_1基本信息\\产业链筛选_汇总.xlsx'  #打开多个sheet的表格\n",
    "wb = xlrd.open_workbook(excel_name) \n",
    "sheets = wb.sheet_names()  # 获取workbook中所有的表格\n",
    "# 下面循环遍历所有sheet\n",
    "df2 = DataFrame()\n",
    "for i in range(len(sheets)):\n",
    "    df = pd.read_excel(excel_name, sheet_name=i,usecols=[4])\n",
    "    df2 = df2.append(df)\n",
    "#所有sheet的结果合在df2中\n",
    "result.to_excel(\"产业链公司编码.xlsx\") #输出结果"
   ]
  },
  {
   "cell_type": "markdown",
   "id": "0713a380",
   "metadata": {},
   "source": [
    "#### 合并信息表和产业链公司编码"
   ]
  },
  {
   "cell_type": "code",
   "execution_count": null,
   "id": "95698765",
   "metadata": {},
   "outputs": [],
   "source": [
    "DF=pd.read_excel(r'E:\\思懿-已更新数据文件夹2\\qsy_1基本信息\\1.基本信息-1基本信息（补充后）.xlsx')"
   ]
  },
  {
   "cell_type": "code",
   "execution_count": null,
   "id": "68c9cea7",
   "metadata": {},
   "outputs": [],
   "source": [
    "RESULT = result.merge(DF,how='left',on=['公司编码'])\n",
    "RESULT.to_excel(\"1.基本信息-1基本信息（补充后）_产业链2.xlsx\") #输出结果"
   ]
  },
  {
   "cell_type": "markdown",
   "id": "c14593b0",
   "metadata": {},
   "source": [
    "#### 去除重复公司"
   ]
  },
  {
   "cell_type": "code",
   "execution_count": null,
   "id": "83113b4d",
   "metadata": {},
   "outputs": [],
   "source": [
    "RESULT = RESULT.drop_duplicates(subset=['公司编码'])\n",
    "RESULT = RESULT.drop_duplicates(subset=['公司名称'])"
   ]
  },
  {
   "cell_type": "code",
   "execution_count": null,
   "id": "af5dc62d",
   "metadata": {},
   "outputs": [],
   "source": [
    "result2['公司编码'].duplicated().sum()"
   ]
  },
  {
   "cell_type": "code",
   "execution_count": null,
   "id": "f3fd74e2",
   "metadata": {},
   "outputs": [],
   "source": [
    "result2['公司名称'].duplicated().sum()"
   ]
  },
  {
   "cell_type": "markdown",
   "id": "4876a39e",
   "metadata": {},
   "source": [
    "#### 清理基本信息表"
   ]
  },
  {
   "cell_type": "code",
   "execution_count": null,
   "id": "bc7bbe48",
   "metadata": {},
   "outputs": [],
   "source": [
    "df3=pd.read_excel(r'E:\\思懿-已更新数据文件夹2\\qsy_1基本信息\\1.基本信息-1基本信息（补充后）cleaned.xlsx')\n",
    "result3 = result2.merge(df3,how='left',on=['公司名称','公司编码'])\n",
    "result3.to_excel(\"1.基本信息-1基本信息（补充后）cleaned2\") #输出结果"
   ]
  },
  {
   "cell_type": "markdown",
   "id": "11e5c6e7",
   "metadata": {},
   "source": [
    "#### 仅保留匹配列"
   ]
  },
  {
   "cell_type": "code",
   "execution_count": 2,
   "id": "71b07e44",
   "metadata": {},
   "outputs": [],
   "source": [
    "import openpyxl\n",
    "import xlrd\n",
    "import pandas as pd\n",
    "import numpy as np\n",
    "from  pandas import DataFrame\n",
    "from openpyxl import load_workbook\n",
    "xlrd.xlsx.ensure_elementtree_imported(False, None)\n",
    "xlrd.xlsx.Element_has_iter = True"
   ]
  },
  {
   "cell_type": "code",
   "execution_count": null,
   "id": "e09b3df5",
   "metadata": {},
   "outputs": [],
   "source": [
    "excel_name=r'E:\\思懿-已更新数据文件夹2\\qsy_1基本信息\\1.基本信息-1基本信息（补充后）_产业链.xlsx'\n",
    "df = pd.read_excel(excel_name,sheet_name='Sheet1',usecols=[0,1,22])"
   ]
  },
  {
   "cell_type": "code",
   "execution_count": null,
   "id": "2d1a6c8b",
   "metadata": {},
   "outputs": [],
   "source": [
    "df.to_excel(\"1.基本信息-1基本信息（补充后）_地址匹配\") #输出结果"
   ]
  },
  {
   "cell_type": "code",
   "execution_count": null,
   "id": "b92037d5",
   "metadata": {},
   "outputs": [],
   "source": [
    "df.to_excel('output.xlsx') #第二种导出方式"
   ]
  },
  {
   "cell_type": "code",
   "execution_count": null,
   "id": "1485637c",
   "metadata": {},
   "outputs": [],
   "source": [
    "df['公司编码'].count()"
   ]
  },
  {
   "cell_type": "markdown",
   "id": "a30a5237",
   "metadata": {},
   "source": [
    "#### 统计主体和注资数"
   ]
  },
  {
   "cell_type": "code",
   "execution_count": null,
   "id": "ec87ee96",
   "metadata": {},
   "outputs": [],
   "source": [
    "df = pd.DataFrame(df.groupby(df[\"所属市\"])['公司编码'].count())\n",
    "df.to_excel(\"主体数_output.xlsx\") #输出结果\n",
    "\n",
    "df = pd.DataFrame(df.groupby(df[\"所属市\"])['注册资本金额(元)'].sum())\n",
    "df.to_excel(\"注册资本金额总数（元）_output.xlsx\") #输出结果"
   ]
  },
  {
   "cell_type": "code",
   "execution_count": null,
   "id": "cd223fca",
   "metadata": {},
   "outputs": [],
   "source": [
    "df=pd.read_excel(r'E:\\思懿-已更新数据文件夹2\\qsy_1基本信息\\1.基本信息-1基本信息（补充后）_产业链.xlsx')\n",
    "df['主体数'].sum()"
   ]
  }
 ],
 "metadata": {
  "kernelspec": {
   "display_name": "Python 3 (ipykernel)",
   "language": "python",
   "name": "python3"
  },
  "language_info": {
   "codemirror_mode": {
    "name": "ipython",
    "version": 3
   },
   "file_extension": ".py",
   "mimetype": "text/x-python",
   "name": "python",
   "nbconvert_exporter": "python",
   "pygments_lexer": "ipython3",
   "version": "3.9.7"
  }
 },
 "nbformat": 4,
 "nbformat_minor": 5
}
