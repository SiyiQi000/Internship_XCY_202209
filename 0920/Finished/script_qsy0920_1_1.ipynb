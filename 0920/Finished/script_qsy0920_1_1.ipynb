{
 "cells": [
  {
   "cell_type": "markdown",
   "id": "4d1c8520",
   "metadata": {},
   "source": [
    "## 任务1_1，产业链筛选和最终统计"
   ]
  },
  {
   "cell_type": "markdown",
   "id": "03dd560f",
   "metadata": {},
   "source": [
    "#### 产业链筛选"
   ]
  },
  {
   "cell_type": "code",
   "execution_count": null,
   "id": "efc18937",
   "metadata": {},
   "outputs": [],
   "source": [
    "import openpyxl\n",
    "import xlrd\n",
    "import pandas as pd\n",
    "import numpy as np\n",
    "from  pandas import DataFrame\n",
    "from openpyxl import load_workbook\n",
    "xlrd.xlsx.ensure_elementtree_imported(False, None)\n",
    "xlrd.xlsx.Element_has_iter = True"
   ]
  },
  {
   "cell_type": "code",
   "execution_count": null,
   "id": "9baeebc7",
   "metadata": {},
   "outputs": [],
   "source": [
    "df1=pd.read_excel(r'E:\\思懿-已更新数据文件夹2\\qsy_1基本信息\\0926最终最终最终更新产业链筛选.xlsx',sheet_name='最终最终最终产业链')"
   ]
  },
  {
   "cell_type": "code",
   "execution_count": null,
   "id": "06795f2f",
   "metadata": {},
   "outputs": [],
   "source": [
    "df2=pd.read_excel(r'E:\\思懿-已更新数据文件夹2\\qsy_1基本信息\\1.基本信息-3产业链信息\\1.基本信息-3产业链信息3.xlsx',usecols=[0,1,3])"
   ]
  },
  {
   "cell_type": "code",
   "execution_count": null,
   "id": "76eab0cc",
   "metadata": {},
   "outputs": [],
   "source": [
    "'''\n",
    "excel_name = r'E:\\思懿-已更新数据文件夹2\\qsy_1基本信息\\产业链拆分_1.xlsx'  #打开多个sheet的表格\n",
    "wb = xlrd.open_workbook(excel_name) \n",
    "sheets = wb.sheet_names()  # 获取workbook中所有的表格\n",
    "# 下面循环遍历所有sheet\n",
    "df2 = DataFrame()\n",
    "for i in range(len(sheets)):\n",
    "    df = pd.read_excel(excel_name, sheet_name=i,usecols=[0,1,3])\n",
    "    df2 = df2.append(df)\n",
    "#所有sheet的结果合在df2中\n",
    "'''"
   ]
  },
  {
   "cell_type": "code",
   "execution_count": null,
   "id": "05ba51e3",
   "metadata": {},
   "outputs": [],
   "source": [
    "result = df1.merge(df2,how='left',on=['产业'])\n",
    "result.to_excel(\"产业链拆分1_output.xlsx\") #输出结果"
   ]
  },
  {
   "cell_type": "markdown",
   "id": "2381ecff",
   "metadata": {},
   "source": [
    "part 2"
   ]
  },
  {
   "cell_type": "code",
   "execution_count": null,
   "id": "09ef9def",
   "metadata": {},
   "outputs": [],
   "source": [
    "result['公司编码'].duplicated().sum()"
   ]
  },
  {
   "cell_type": "code",
   "execution_count": null,
   "id": "8683b011",
   "metadata": {},
   "outputs": [],
   "source": [
    "result=result.drop_duplicates()  #全部列都重复才删去"
   ]
  },
  {
   "cell_type": "code",
   "execution_count": null,
   "id": "dd4c9eff",
   "metadata": {},
   "outputs": [],
   "source": [
    "result['公司编码'].duplicated().sum()"
   ]
  },
  {
   "cell_type": "code",
   "execution_count": null,
   "id": "eeb4c383",
   "metadata": {},
   "outputs": [],
   "source": [
    "result.to_excel(\"产业链筛选_output1.xlsx\") #输出结果"
   ]
  },
  {
   "cell_type": "code",
   "execution_count": null,
   "id": "5ea9f4d6",
   "metadata": {},
   "outputs": [],
   "source": [
    "excel_name = r'E:\\思懿-已更新数据文件夹2\\qsy_1基本信息\\产业链筛选_汇总.xlsx'  #打开多个sheet的表格\n",
    "wb = xlrd.open_workbook(excel_name) \n",
    "sheets = wb.sheet_names()  # 获取workbook中所有的表格\n",
    "# 下面循环遍历所有sheet\n",
    "df2 = DataFrame()\n",
    "for i in range(len(sheets)):\n",
    "    df = pd.read_excel(excel_name, sheet_name=i,usecols=[4])\n",
    "    df2 = df2.append(df)\n",
    "#所有sheet的结果合在df2中\n",
    "result.to_excel(\"产业链公司编码.xlsx\") #输出结果"
   ]
  },
  {
   "cell_type": "markdown",
   "id": "0713a380",
   "metadata": {},
   "source": [
    "#### 合并信息表和产业链公司编码，去重"
   ]
  },
  {
   "cell_type": "code",
   "execution_count": null,
   "id": "95698765",
   "metadata": {},
   "outputs": [],
   "source": [
    "DF=pd.read_excel(r'E:\\思懿-已更新数据文件夹2\\qsy_1基本信息\\1.基本信息-1基本信息（补充后）cleaned_最终.xlsx')"
   ]
  },
  {
   "cell_type": "code",
   "execution_count": null,
   "id": "f3fd74e2",
   "metadata": {},
   "outputs": [],
   "source": [
    "RESULT = result.merge(DF,how='left',on=['公司编码'])\n",
    "RESULT = RESULT.drop_duplicates(subset=['公司编码'])\n",
    "RESULT = RESULT.drop_duplicates(subset=['公司名称'])\n"
   ]
  },
  {
   "cell_type": "code",
   "execution_count": null,
   "id": "30130045",
   "metadata": {},
   "outputs": [],
   "source": [
    "RESULT['公司编码'].duplicated().sum()\n",
    "RESULT['公司名称'].duplicated().sum()"
   ]
  },
  {
   "cell_type": "code",
   "execution_count": null,
   "id": "ee423232",
   "metadata": {},
   "outputs": [],
   "source": [
    "RESULT.to_excel(\"1.基本信息-1基本信息（补充后）_产业链0926\") #输出结果"
   ]
  },
  {
   "cell_type": "markdown",
   "id": "11e5c6e7",
   "metadata": {},
   "source": [
    "#### 仅保留匹配列"
   ]
  },
  {
   "cell_type": "code",
   "execution_count": null,
   "id": "1485637c",
   "metadata": {},
   "outputs": [],
   "source": [
    "import openpyxl\n",
    "import xlrd\n",
    "import pandas as pd\n",
    "import numpy as np\n",
    "from  pandas import DataFrame\n",
    "from openpyxl import load_workbook\n",
    "xlrd.xlsx.ensure_elementtree_imported(False, None)\n",
    "xlrd.xlsx.Element_has_iter = True\n",
    "\n",
    "excel_name=r'E:\\思懿-已更新数据文件夹2\\qsy_1基本信息\\1.基本信息-1基本信息（补充后）_产业链.xlsx'\n",
    "df = pd.read_excel(excel_name,sheet_name='Sheet1',usecols=[0,1,22])\n",
    "\n",
    "df.to_excel(\"1.基本信息-1基本信息（补充后）_地址匹配\") #输出结果\n",
    "\n",
    "df['公司编码'].count()"
   ]
  },
  {
   "cell_type": "markdown",
   "id": "a30a5237",
   "metadata": {},
   "source": [
    "#### 统计主体和注资数"
   ]
  },
  {
   "cell_type": "code",
   "execution_count": null,
   "id": "1d6b23ad",
   "metadata": {},
   "outputs": [],
   "source": [
    "import pandas as pd\n",
    "import numpy as np\n",
    "\n",
    "result2=pd.read_excel(r'E:\\思懿-已更新数据文件夹2\\qsy_1基本信息\\1.基本信息-1基本信息（补充后）_产业链.xlsx')"
   ]
  },
  {
   "cell_type": "code",
   "execution_count": null,
   "id": "cd223fca",
   "metadata": {},
   "outputs": [],
   "source": [
    "result2['成立日期']=pd.to_datetime(result2['成立日期']) #改为时间格式\n",
    "##b2022\n",
    "result2_b2022 = result2[result2['成立日期']<pd.datetime(2022,1,1)] #只取2022年之前\n",
    "result2_b2022['核准日期']=pd.to_datetime(result2_b2022['核准日期']) #改为时间格式\n",
    "result2_b2022 = result2_b2022.drop(result2_b2022[(result2_b2022['核准日期']<pd.datetime(2021,1,1)) & (result2_b2022['注册状态'].isin(['注销',\\\n",
    "                                                                                                                    '迁出','吊销，未注销',\\\n",
    "                                                                                                                    '吊销，已注销']))].index)\n",
    "\n",
    "result2_b2022_count = pd.DataFrame(result2_b2022.groupby(result2_b2022[\"所属市\"])['公司编码'].count())\n",
    "#改名\n",
    "result2_b2022_count=result2_b2022_count.rename(columns={'公司编码':'公司编码_b2022_count'})\n",
    "result2_b2022_final=result2_b2022_count\n",
    "\n",
    "\n",
    "##b2021\n",
    "result2_b2021 = result2[result2['成立日期']<pd.datetime(2021,1,1)] #只取2021年之前\n",
    "result2_b2021['核准日期']=pd.to_datetime(result2_b2021['核准日期']) #改为时间格式\n",
    "result2_b2021 = result2_b2021.drop(result2_b2021[(result2_b2021['核准日期']<pd.datetime(2020,1,1)) & (result2_b2021['注册状态'].isin(['注销',\\\n",
    "                                                                                                                    '迁出','吊销，未注销',\\\n",
    "                                                                                                                    '吊销，已注销']))].index)\n",
    "\n",
    "\n",
    "result2_b2021_count = pd.DataFrame(result2_b2021.groupby(result2_b2021[\"所属市\"])['公司编码'].count())\n",
    "#改名\n",
    "result2_b2021_count=result2_b2021_count.rename(columns={'公司编码':'公司编码_b2021_count'})\n",
    "result2_b2021_final=result2_b2021_count\n",
    "\n",
    "##b2020\n",
    "result2_b2020 = result2[result2['成立日期']<pd.datetime(2020,1,1)] #只取2020年之前\n",
    "result2_b2020['核准日期']=pd.to_datetime(result2_b2020['核准日期']) #改为时间格式\n",
    "result2_b2020 = result2_b2020.drop(result2_b2020[(result2_b2020['核准日期']<pd.datetime(2019,1,1)) & (result2_b2020['注册状态'].isin(['注销',\\\n",
    "                                                                                                                    '迁出','吊销，未注销',\\\n",
    "                                                                                                                    '吊销，已注销']))].index)\n",
    "\n",
    "\n",
    "result2_b2020_count = pd.DataFrame(result2_b2020.groupby(result2_b2020[\"所属市\"])['公司编码'].count())\n",
    "#改名\n",
    "result2_b2020_count=result2_b2020_count.rename(columns={'公司编码':'公司编码_b2020_count'})\n",
    "result2_b2020_final=result2_b2020_count\n",
    "\n",
    "##b2019\n",
    "result2_b2019 = result2[result2['成立日期']<pd.datetime(2019,1,1)] #只取2019年之前\n",
    "\n",
    "result2_b2019_count = pd.DataFrame(result2_b2019.groupby(result2_b2019[\"所属市\"])['公司编码'].count())\n",
    "#改名\n",
    "result2_b2019_count=result2_b2019_count.rename(columns={'公司编码':'公司编码_b2019_count'})\n",
    "result2_b2019_final=result2_b2019_count\n",
    "\n",
    "##合并年份4个表并输出\n",
    "tbs = [result2_b2021_final,result2_b2020_final,result2_b2019_final]\n",
    "result2_final = result2_b2022_final\n",
    "for tb in tbs:\n",
    "    result2_final = result2_final.merge(tb, on=['所属市'], how='outer')\n",
    "\n",
    "\n",
    "result2_final.to_excel(\"1.基本信息-1基本信息_主体数_output.xlsx\") #输出结果"
   ]
  },
  {
   "cell_type": "code",
   "execution_count": null,
   "id": "0a43e44b",
   "metadata": {},
   "outputs": [],
   "source": [
    "result2['成立日期']=pd.to_datetime(result2['成立日期']) #改为时间格式\n",
    "##b2022\n",
    "result2_b2022 = result2[result2['成立日期']<pd.datetime(2022,1,1)] #只取2022年之前\n",
    "result2_b2022['核准日期']=pd.to_datetime(result2_b2022['核准日期']) #改为时间格式\n",
    "result2_b2022 = result2_b2022.drop(result2_b2022[(result2_b2022['核准日期']<pd.datetime(2021,1,1)) & (result2_b2022['注册状态'].isin(['注销',\\\n",
    "                                                                                                                    '迁出','吊销，未注销',\\\n",
    "                                                                                                                    '吊销，已注销']))].index)\n",
    "\n",
    "result2_b2022_count = pd.DataFrame(result2_b2022.groupby(result2_b2022[\"所属市\"])['注册资本金额(元)'].sum())\n",
    "#改名\n",
    "result2_b2022_count=result2_b2022_count.rename(columns={'注册资本金额(元)':'注册资本金额(元)_b2022_sum'})\n",
    "result2_b2022_final=result2_b2022_count\n",
    "\n",
    "\n",
    "##b2021\n",
    "result2_b2021 = result2[result2['成立日期']<pd.datetime(2021,1,1)] #只取2021年之前\n",
    "result2_b2021['核准日期']=pd.to_datetime(result2_b2021['核准日期']) #改为时间格式\n",
    "result2_b2021 = result2_b2021.drop(result2_b2021[(result2_b2021['核准日期']<pd.datetime(2020,1,1)) & (result2_b2021['注册状态'].isin(['注销',\\\n",
    "                                                                                                                    '迁出','吊销，未注销',\\\n",
    "                                                                                                                    '吊销，已注销']))].index)\n",
    "\n",
    "result2_b2021_count = pd.DataFrame(result2_b2021.groupby(result2_b2021[\"所属市\"])['注册资本金额(元)'].sum())\n",
    "#改名\n",
    "result2_b2021_count=result2_b2021_count.rename(columns={'注册资本金额(元)':'注册资本金额(元)_b2021_sum'})\n",
    "result2_b2021_final=result2_b2021_count\n",
    "\n",
    "##b2020\n",
    "result2_b2020 = result2[result2['成立日期']<pd.datetime(2020,1,1)] #只取2020年之前\n",
    "result2_b2020['核准日期']=pd.to_datetime(result2_b2020['核准日期']) #改为时间格式\n",
    "result2_b2020 = result2_b2020.drop(result2_b2020[(result2_b2020['核准日期']<pd.datetime(2019,1,1)) & (result2_b2020['注册状态'].isin(['注销',\\\n",
    "                                                                                                                    '迁出','吊销，未注销',\\\n",
    "                                                                                                                    '吊销，已注销']))].index)\n",
    "\n",
    "result2_b2020_count = pd.DataFrame(result2_b2020.groupby(result2_b2020[\"所属市\"])['注册资本金额(元)'].sum())\n",
    "#改名\n",
    "result2_b2020_count=result2_b2020_count.rename(columns={'注册资本金额(元)':'注册资本金额(元)_b2020_sum'})\n",
    "result2_b2020_final=result2_b2020_count\n",
    "\n",
    "##b2019\n",
    "result2_b2019 = result2[result2['成立日期']<pd.datetime(2019,1,1)] #只取2019年之前\n",
    "\n",
    "result2_b2019_count = pd.DataFrame(result2_b2019.groupby(result2_b2019[\"所属市\"])['注册资本金额(元)'].sum())\n",
    "#改名\n",
    "result2_b2019_count=result2_b2019_count.rename(columns={'注册资本金额(元)':'注册资本金额(元)_b2019_sum'})\n",
    "result2_b2019_final=result2_b2019_count\n",
    "\n",
    "##合并年份4个表并输出\n",
    "tbs = [result2_b2021_final,result2_b2020_final,result2_b2019_final]\n",
    "result2_final = result2_b2022_final\n",
    "for tb in tbs:\n",
    "    result2_final = result2_final.merge(tb, on=['所属市'], how='outer')\n",
    "\n",
    "\n",
    "result2_final.to_excel(\"1.基本信息-1基本信息_注册资本金额(元)_output.xlsx\") #输出结果"
   ]
  },
  {
   "cell_type": "code",
   "execution_count": null,
   "id": "d583f48a",
   "metadata": {},
   "outputs": [],
   "source": [
    "#统计上市公司\n",
    "result2['成立日期']=pd.to_datetime(result2['成立日期']) #改为时间格式\n",
    "result2 = result2[result2['市场性质'].notna()]\n",
    "##b2022\n",
    "result2_b2022 = result2[result2['成立日期']<pd.datetime(2022,1,1)] #只取2022年之前\n",
    "result2_b2022['核准日期']=pd.to_datetime(result2_b2022['核准日期']) #改为时间格式\n",
    "result2_b2022 = result2_b2022.drop(result2_b2022[(result2_b2022['核准日期']<pd.datetime(2021,1,1)) & (result2_b2022['注册状态'].isin(['注销',\\\n",
    "                                                                                                                    '迁出','吊销，未注销',\\\n",
    "                                                                                                                    '吊销，已注销']))].index)\n",
    "\n",
    "result2_b2022_count = pd.DataFrame(result2_b2022.groupby(result2_b2022[\"所属市\"])['公司编码'].count())\n",
    "#改名\n",
    "result2_b2022_count=result2_b2022_count.rename(columns={'公司编码':'公司编码_b2022_count'})\n",
    "result2_b2022_final=result2_b2022_count\n",
    "\n",
    "\n",
    "##b2021\n",
    "result2_b2021 = result2[result2['成立日期']<pd.datetime(2021,1,1)] #只取2021年之前\n",
    "result2_b2021['核准日期']=pd.to_datetime(result2_b2021['核准日期']) #改为时间格式\n",
    "result2_b2021 = result2_b2021.drop(result2_b2021[(result2_b2021['核准日期']<pd.datetime(2020,1,1)) & (result2_b2021['注册状态'].isin(['注销',\\\n",
    "                                                                                                                    '迁出','吊销，未注销',\\\n",
    "                                                                                                                    '吊销，已注销']))].index)\n",
    "\n",
    "\n",
    "result2_b2021_count = pd.DataFrame(result2_b2021.groupby(result2_b2021[\"所属市\"])['公司编码'].count())\n",
    "#改名\n",
    "result2_b2021_count=result2_b2021_count.rename(columns={'公司编码':'公司编码_b2021_count'})\n",
    "result2_b2021_final=result2_b2021_count\n",
    "\n",
    "##b2020\n",
    "result2_b2020 = result2[result2['成立日期']<pd.datetime(2020,1,1)] #只取2020年之前\n",
    "result2_b2020['核准日期']=pd.to_datetime(result2_b2020['核准日期']) #改为时间格式\n",
    "result2_b2020 = result2_b2020.drop(result2_b2020[(result2_b2020['核准日期']<pd.datetime(2019,1,1)) & (result2_b2020['注册状态'].isin(['注销',\\\n",
    "                                                                                                                    '迁出','吊销，未注销',\\\n",
    "                                                                                                                    '吊销，已注销']))].index)\n",
    "\n",
    "\n",
    "result2_b2020_count = pd.DataFrame(result2_b2020.groupby(result2_b2020[\"所属市\"])['公司编码'].count())\n",
    "#改名\n",
    "result2_b2020_count=result2_b2020_count.rename(columns={'公司编码':'公司编码_b2020_count'})\n",
    "result2_b2020_final=result2_b2020_count\n",
    "\n",
    "##b2019\n",
    "result2_b2019 = result2[result2['成立日期']<pd.datetime(2019,1,1)] #只取2019年之前\n",
    "\n",
    "result2_b2019_count = pd.DataFrame(result2_b2019.groupby(result2_b2019[\"所属市\"])['公司编码'].count())\n",
    "#改名\n",
    "result2_b2019_count=result2_b2019_count.rename(columns={'公司编码':'公司编码_b2019_count'})\n",
    "result2_b2019_final=result2_b2019_count\n",
    "\n",
    "##合并年份4个表并输出\n",
    "tbs = [result2_b2021_final,result2_b2020_final,result2_b2019_final]\n",
    "result2_final = result2_b2022_final\n",
    "for tb in tbs:\n",
    "    result2_final = result2_final.merge(tb, on=['所属市'], how='outer')\n",
    "\n",
    "\n",
    "result2_final.to_excel(\"1.基本信息-1基本信息_上市公司主体数_output.xlsx\") #输出结果"
   ]
  }
 ],
 "metadata": {
  "kernelspec": {
   "display_name": "Python 3 (ipykernel)",
   "language": "python",
   "name": "python3"
  },
  "language_info": {
   "codemirror_mode": {
    "name": "ipython",
    "version": 3
   },
   "file_extension": ".py",
   "mimetype": "text/x-python",
   "name": "python",
   "nbconvert_exporter": "python",
   "pygments_lexer": "ipython3",
   "version": "3.9.7"
  }
 },
 "nbformat": 4,
 "nbformat_minor": 5
}
